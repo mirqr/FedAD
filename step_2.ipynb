{
 "cells": [
  {
   "cell_type": "code",
   "execution_count": null,
   "metadata": {},
   "outputs": [],
   "source": [
    "import shlex, subprocess, time\n",
    "\n",
    "import pandas as pd\n",
    "import glob\n",
    "\n",
    "import runconfig"
   ]
  },
  {
   "cell_type": "code",
   "execution_count": null,
   "metadata": {},
   "outputs": [],
   "source": [
    "%load_ext autoreload\n",
    "%autoreload 2"
   ]
  },
  {
   "cell_type": "code",
   "execution_count": null,
   "metadata": {},
   "outputs": [],
   "source": [
    "config_dict = runconfig.get_config_dict()\n",
    "dataset_name = config_dict['dataset_name']\n",
    "outlier_fraction = config_dict['outlier_fraction']\n",
    "num_clients_per_class = config_dict['num_clients_per_class']\n",
    "association_threshold = config_dict['association_threshold']\n",
    "\n",
    "num_class = 10\n",
    "\n",
    "l_ideal = []\n",
    "for p1 in range(num_class):\n",
    "    l2 = []\n",
    "    for p2 in range(num_clients_per_class):  \n",
    "        l2.append(str(p1)+\"_\"+str(p2))\n",
    "    l_ideal.append(l2)\n",
    "l_ideal\n",
    "dataset_name"
   ]
  },
  {
   "cell_type": "code",
   "execution_count": null,
   "metadata": {},
   "outputs": [],
   "source": [
    "communities_file_name = dataset_name + str(num_clients_per_class) + '_communities.txt'\n",
    "with open('data/'+communities_file_name) as file:\n",
    "    lines = file.readlines()\n",
    "    l_communities = [sorted(line.strip().replace(' ', '').split(',')) for line in lines]\n",
    "\n",
    "for i in l_communities:\n",
    "    print(i)"
   ]
  },
  {
   "cell_type": "code",
   "execution_count": null,
   "metadata": {},
   "outputs": [],
   "source": [
    "%%capture\n",
    "\n",
    "liss = l_communities; out_fold = 'communities' \n",
    "#liss = l_ideal; out_fold = 'ideal'  # run this for ideal case\n",
    "\n",
    "address = 5000 # is actually a port. Server and clients of the same group have the same port\n",
    "for num,i in enumerate(liss[0:]):\n",
    "    print(str(i))\n",
    "    ll = ['./fed_start.sh', dataset_name, str(address+num), str(num_clients_per_class), out_fold] + i\n",
    "    as_string = \" \".join(ll)\n",
    "    subprocess.check_call(as_string, shell=True)\n"
   ]
  },
  {
   "cell_type": "code",
   "execution_count": null,
   "metadata": {},
   "outputs": [],
   "source": [
    "# put the evaluation results together\n",
    "def get_df_from_csvs(pth, out_fold):\n",
    "    files = glob.glob(pth+\"output_\"+out_fold+\"/\"+dataset_name+\"/*.csv\")\n",
    "    df = pd.DataFrame()\n",
    "    for f in files:\n",
    "        csv = pd.read_csv(f,index_col=[0])\n",
    "        df = pd.concat([df,csv])\n",
    "        df = df.sort_values('dataset').reset_index(drop=True)\n",
    "    df = df.add_suffix('_'+out_fold).reset_index(drop=True)\n",
    "    return df\n",
    "\n",
    "pth = 'out'+str(num_clients_per_class)+'/'\n",
    "df1 = get_df_from_csvs(pth, 'local')\n",
    "df2 = get_df_from_csvs(pth, 'communities')\n",
    "df3 = get_df_from_csvs(pth, 'ideal')\n",
    "pd.concat([df1,df2,df3],axis=1)"
   ]
  },
  {
   "cell_type": "code",
   "execution_count": null,
   "metadata": {},
   "outputs": [],
   "source": [
    "metric = 'f1in'\n",
    "metric = 'f1out'\n",
    "#metric = 'acc'\n",
    "metric = 'aucroc'\n",
    "pd.concat([df1,df2,df3],axis=1)\n",
    "pd.concat([df1,df2,df3],axis=1)[[metric+'_local',metric+'_communities',metric+'_ideal']].reset_index(drop=True).style.highlight_max(color = 'lightgreen', axis = 1)\n",
    "pd.concat([df1,df2,df3],axis=1)[[metric+'_local',metric+'_communities',metric+'_ideal']].reset_index(drop=True).mean()"
   ]
  },
  {
   "cell_type": "code",
   "execution_count": null,
   "metadata": {},
   "outputs": [],
   "source": [
    "df2"
   ]
  },
  {
   "cell_type": "code",
   "execution_count": null,
   "metadata": {},
   "outputs": [],
   "source": [
    "df3['inlier'] = df3['dataset_ideal'].str.split('_', 1, expand=True)[0] # only need to add inlier column\n",
    "pd.concat([df1,df2,df3],axis=1)[['inlier',metric+'_local',metric+'_communities',metric+'_ideal']].groupby('inlier').mean().style.highlight_max(color = 'lightgreen', axis = 1)"
   ]
  },
  {
   "cell_type": "code",
   "execution_count": null,
   "metadata": {},
   "outputs": [],
   "source": []
  }
 ],
 "metadata": {
  "kernelspec": {
   "display_name": "venv",
   "language": "python",
   "name": "python3"
  },
  "language_info": {
   "codemirror_mode": {
    "name": "ipython",
    "version": 3
   },
   "file_extension": ".py",
   "mimetype": "text/x-python",
   "name": "python",
   "nbconvert_exporter": "python",
   "pygments_lexer": "ipython3",
   "version": "3.9.16"
  },
  "orig_nbformat": 4,
  "vscode": {
   "interpreter": {
    "hash": "593665181263e4e28b0282309c1fb63b3ae40b89f9103e442a55dea02677e3c6"
   }
  }
 },
 "nbformat": 4,
 "nbformat_minor": 2
}
